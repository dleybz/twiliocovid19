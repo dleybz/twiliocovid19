{
 "cells": [
  {
   "cell_type": "markdown",
   "metadata": {},
   "source": [
    "# Separated"
   ]
  },
  {
   "cell_type": "code",
   "execution_count": null,
   "metadata": {},
   "outputs": [],
   "source": [
    "my_phone = \"\" #The phone number you'd like to receive texts on\n",
    "twilio_phone = \"\" #Your registered number on Twilio\n",
    "state = \"California\" #Capitalize first letter\n",
    "county = \"Santa Clara\" #Capitalize first letter of every word\n",
    "desired_metric = \"deaths\" #deaths or confirmed"
   ]
  },
  {
   "cell_type": "code",
   "execution_count": null,
   "metadata": {},
   "outputs": [],
   "source": [
    "from twilio.rest import Client\n",
    "\n",
    "last_metric = 0\n",
    "today_metric = 1\n",
    "\n",
    "if desired_metric == \"confirmed\":\n",
    "    pretty_dm = \"cases\"\n",
    "elif desired_metric == \"deaths\":\n",
    "    pretty_dm = desired_metric\n",
    "\n",
    "text_body = f\"The number of confirmed {pretty_dm} in {county}, {state} has at least doubled from {last_metric} to {today_metric}.\"\n",
    "\n",
    "def send_text(ph1, ph2, text_body):\n",
    "    client = Client()\n",
    "\n",
    "    message = client.messages.create(\n",
    "        to=ph1, \n",
    "        from_=ph2,\n",
    "        body=text_body\n",
    "    )\n",
    "    \n",
    "send_text(ph1 = my_phone, ph2 = twilio_phone, text_body = text_body)"
   ]
  },
  {
   "cell_type": "code",
   "execution_count": null,
   "metadata": {},
   "outputs": [],
   "source": [
    "import pandas as pd\n",
    "\n",
    "data = pd.read_csv('https://raw.githubusercontent.com/CSSEGISandData/COVID-19/master/csse_covid_19_data/csse_covid_19_time_series/time_series_covid19_' + desired_metric + '_US.csv')\n",
    "today_data = data.iloc[:,-1]\n",
    "today_metric = today_data.loc[data['Province_State'] == state].loc[data['Admin2'] == county]\n",
    "today_metric = int(today_metric)"
   ]
  },
  {
   "cell_type": "code",
   "execution_count": null,
   "metadata": {},
   "outputs": [],
   "source": [
    "from pathlib import Path\n",
    "\n",
    "try:\n",
    "    with open(\"last_metric\", \"r\") as myFile:\n",
    "        last_metric = int(myFile.read())\n",
    "        if ((today_metric >= 2*last_metric) & (today_metric > 0)):\n",
    "            print(\"send_text\")\n",
    "            with open(\"last_metric\", \"w\") as myFile:\n",
    "                myFile.write(str(today_metric))\n",
    "except FileNotFoundError:\n",
    "    with open(\"last_metric\", \"w\") as myFile:\n",
    "        myFile.write(str(today_metric))"
   ]
  },
  {
   "cell_type": "markdown",
   "metadata": {},
   "source": [
    "# Consolidated"
   ]
  },
  {
   "cell_type": "code",
   "execution_count": null,
   "metadata": {},
   "outputs": [],
   "source": [
    "from twilio.rest import Client\n",
    "import pandas as pd\n",
    "from pathlib import Path\n",
    "\n",
    "my_phone = \"\" #The phone number you'd like to receive texts on\n",
    "twilio_phone = \"\" #Your registered number on Twilio\n",
    "state = \"California\" #Capitalize first letter\n",
    "county = \"Santa Clara\" #Capitalize first letter of every word\n",
    "desired_metric = \"deaths\" #deaths or confirmed\n",
    "\n",
    "if desired_metric == \"confirmed\":\n",
    "    pretty_dm = \"cases\"\n",
    "elif desired_metric == \"deaths\":\n",
    "    pretty_dm = desired_metric\n",
    "\n",
    "text_body = f\"The number of confirmed {pretty_dm} in {county}, {state} has at least doubled from {last_metric} to {today_metric}.\"\n",
    "\n",
    "def send_text(ph1, ph2, text_body):\n",
    "    client = Client()\n",
    "\n",
    "    message = client.messages.create(\n",
    "        to=ph1, \n",
    "        from_=ph2,\n",
    "        body=text_body\n",
    "    )\n",
    "\n",
    "data = pd.read_csv('https://raw.githubusercontent.com/CSSEGISandData/COVID-19/master/csse_covid_19_data/csse_covid_19_time_series/time_series_covid19_' + desired_metric + '_US.csv')\n",
    "today_metric = int(data.loc[data['Province_State'] == state].loc[data['Admin2'] == county].iloc[:,-1])\n",
    "\n",
    "try:\n",
    "    with open(\"last_metric\", \"r\") as myFile:\n",
    "        last_metric = int(myFile.read())\n",
    "        if ((today_metric >= 2*last_metric) & (today_metric > 0)):\n",
    "            send_text(ph1 = my_phone, ph2 = twilio_phone, text_body = text_body)\n",
    "            with open(\"last_metric\", \"w\") as myFile:\n",
    "                myFile.write(str(today_metric))\n",
    "except FileNotFoundError:\n",
    "    with open(\"last_metric\", \"w\") as myFile:\n",
    "        myFile.write(str(today_metric))"
   ]
  }
 ],
 "metadata": {
  "kernelspec": {
   "display_name": "Python 3",
   "language": "python",
   "name": "python3"
  },
  "language_info": {
   "codemirror_mode": {
    "name": "ipython",
    "version": 3
   },
   "file_extension": ".py",
   "mimetype": "text/x-python",
   "name": "python",
   "nbconvert_exporter": "python",
   "pygments_lexer": "ipython3",
   "version": "3.7.7"
  }
 },
 "nbformat": 4,
 "nbformat_minor": 4
}
